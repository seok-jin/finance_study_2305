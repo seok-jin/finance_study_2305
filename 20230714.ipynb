{
 "cells": [
  {
   "cell_type": "code",
   "execution_count": 1,
   "metadata": {},
   "outputs": [],
   "source": [
    "import pandas as pd"
   ]
  },
  {
   "cell_type": "code",
   "execution_count": 3,
   "metadata": {},
   "outputs": [],
   "source": [
    "import requests\n",
    "from bs4 import BeautifulSoup\n",
    "\n",
    "# 제품 목록 페이지 URL\n",
    "url = \"https://sell.smartstore.naver.com/#/home/products/list\"\n",
    "\n",
    "# 웹 페이지에 접속하여 HTML 데이터 가져오기\n",
    "response = requests.get(url)\n",
    "html = response.text\n",
    "\n",
    "# BeautifulSoup을 사용하여 HTML 파싱\n",
    "soup = BeautifulSoup(html, 'html.parser')\n",
    "\n",
    "# 제품 목록을 담고 있는 요소 선택하기 (적절한 CSS 선택자를 사용하여 제품 목록을 식별)\n",
    "product_list = soup.select('.product-list')\n",
    "\n",
    "# 제품 데이터 추출\n",
    "for product in product_list:\n",
    "    # 제품 정보 추출\n",
    "    title = product.select_one('.title').text\n",
    "    price = product.select_one('.price').text\n",
    "    # 추가적인 필요한 데이터 추출\n",
    "\n",
    "    # 추출한 데이터 활용\n",
    "    # ...\n",
    "    print(product)\n",
    "\n",
    "# 나머지 페이지에 대해서도 동일한 작업을 반복하거나 페이지 네비게이션 기능을 활용하여 다음 페이지로 이동할 수 있습니다.\n",
    "\n"
   ]
  },
  {
   "cell_type": "code",
   "execution_count": null,
   "metadata": {},
   "outputs": [],
   "source": []
  }
 ],
 "metadata": {
  "kernelspec": {
   "display_name": "base",
   "language": "python",
   "name": "python3"
  },
  "language_info": {
   "codemirror_mode": {
    "name": "ipython",
    "version": 3
   },
   "file_extension": ".py",
   "mimetype": "text/x-python",
   "name": "python",
   "nbconvert_exporter": "python",
   "pygments_lexer": "ipython3",
   "version": "3.9.13"
  },
  "orig_nbformat": 4
 },
 "nbformat": 4,
 "nbformat_minor": 2
}
